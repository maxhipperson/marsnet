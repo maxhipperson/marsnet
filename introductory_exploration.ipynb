{
 "cells": [
  {
   "cell_type": "code",
   "execution_count": 1,
   "metadata": {},
   "outputs": [],
   "source": [
    "%matplotlib qt\n",
    "import os\n",
    "import config as cfg\n",
    "import hyperspy.api as hs\n",
    "from skimage import io\n",
    "import sklearn\n",
    "import numpy as np\n",
    "import matplotlib.pyplot as plt\n",
    "import envi_header"
   ]
  },
  {
   "cell_type": "code",
   "execution_count": 2,
   "metadata": {},
   "outputs": [
    {
     "name": "stdout",
     "output_type": "stream",
     "text": [
      "Imported frt00003bfb_07_if166j_mtr3.hdr\nwavelength units - Nanometers\n"
     ]
    },
    {
     "name": "stderr",
     "output_type": "stream",
     "text": [
      "/Users/maxhipperson/.virtualenvs/marsnet-ZEfWMKGE/lib/python3.6/site-packages/skimage/external/tifffile/tifffile.py:2128: UserWarning: tags are not ordered by code\n  warnings.warn(\"tags are not ordered by code\")\n"
     ]
    },
    {
     "name": "stdout",
     "output_type": "stream",
     "text": [
      "Imported frt00003bfb_data_cube.tif\n"
     ]
    }
   ],
   "source": [
    "image_id = 'frt00003bfb'\n",
    "\n",
    "# read header file\n",
    "hdr_filename = image_id + '_07_if166j_mtr3.hdr'\n",
    "hdr_filepath = os.path.join(cfg.DATA_DIR, hdr_filename)\n",
    "header = envi_header.read_hdr_file(hdr_filepath)\n",
    "\n",
    "print('Imported {}'.format(hdr_filename))\n",
    "print('wavelength units - {}'.format(header['wavelength units']))\n",
    "\n",
    "# read tiff file\n",
    "img_filename = image_id + '_data_cube.tif'\n",
    "img_filepath = os.path.join(cfg.DATA_DIR, img_filename)\n",
    "img = io.imread(img_filepath)\n",
    "\n",
    "print('Imported {}'.format(img_filename))\n",
    "\n",
    "c, w, h = img.shape\n",
    "img = img.transpose(1, 2, 0)\n",
    "\n",
    "# remove ignored values\n",
    "img[img == header['data ignore value']] = 0"
   ]
  },
  {
   "cell_type": "code",
   "execution_count": 3,
   "metadata": {},
   "outputs": [],
   "source": [
    "'''\n",
    "Import the image into a signal class object\n",
    "'''\n",
    "\n",
    "axes_x = {'name': 'x', 'size': img.shape[0], 'units': 'px'}\n",
    "axes_y = {'name': 'y', 'size': img.shape[1], 'units': 'px'}\n",
    "axes_w = {'name': 'wavelength band', 'size': img.shape[2], 'units': 'index'}\n",
    "\n",
    "# convert image to signal object\n",
    "im = hs.signals.Signal1D(img, axes=[axes_x, axes_y, axes_w])\n",
    "im.axes_manager\n",
    "im.plot()"
   ]
  },
  {
   "cell_type": "code",
   "execution_count": 76,
   "metadata": {},
   "outputs": [],
   "source": [
    "'''\n",
    "Set wavelength bounds to crop the spectrum to.\n",
    "'''\n",
    "\n",
    "lower = 1000\n",
    "upper = 2800\n",
    "\n",
    "# find the index of the boundary wavelengths in the header\n",
    "wavelength = np.array(header['wavelength'])\n",
    "lower_index = np.argmax(wavelength >= lower)\n",
    "upper_index = np.argmax(wavelength > upper) - 1\n",
    "\n",
    "# crop the signal to the specified range\n",
    "im.crop_signal1D(lower_index, upper_index)\n",
    "\n",
    "# crop to central section of image\n",
    "# im.crop('x', 200, 600)\n",
    "# im.crop('y', 200, 600)\n",
    "\n",
    "# marker = hs.markers.point(57, 127)\n",
    "# im.add_marker(marker)\n",
    "\n",
    "im.plot()"
   ]
  },
  {
   "cell_type": "code",
   "execution_count": 77,
   "metadata": {},
   "outputs": [
    {
     "name": "stdout",
     "output_type": "stream",
     "text": [
      "Decomposition parameters:\n-------------------------\n\nDecomposition algorithm : \tsvd\nPoissonian noise normalization : False\nOutput dimension : None\nCentre : None\n"
     ]
    }
   ],
   "source": [
    "im.decomposition()\n",
    "im.learning_results.summary()"
   ]
  },
  {
   "cell_type": "code",
   "execution_count": 78,
   "metadata": {},
   "outputs": [
    {
     "data": {
      "text/plain": [
       "<matplotlib.axes._subplots.AxesSubplot at 0x20b5c6a20>"
      ]
     },
     "execution_count": 78,
     "metadata": {},
     "output_type": "execute_result"
    }
   ],
   "source": [
    "im.plot_explained_variance_ratio(threshold=0.005)"
   ]
  },
  {
   "cell_type": "code",
   "execution_count": 80,
   "metadata": {},
   "outputs": [
    {
     "data": {
      "text/plain": [
       "VBox(children=(HBox(children=(Label(value='Decomposition component index', layout=Layout(width='15%')), IntSli…"
      ]
     },
     "execution_count": 0,
     "metadata": {},
     "output_type": "execute_result"
    }
   ],
   "source": [
    "im.plot_decomposition_results()"
   ]
  },
  {
   "cell_type": "code",
   "execution_count": 85,
   "metadata": {
    "collapsed": true
   },
   "outputs": [],
   "source": [
    "factors = im.get_decomposition_factors()\n",
    "fig = plt.figure(figsize=(10, 10))\n",
    "hs.plot.plot_spectra(factors.inav[:9], legend='auto', fig=fig)"
   ]
  },
  {
   "cell_type": "code",
   "execution_count": 86,
   "metadata": {},
   "outputs": [
    {
     "data": {
      "text/plain": [
       "[<matplotlib.axes._subplots.AxesSubplot at 0x23faa7748>,\n <matplotlib.axes._subplots.AxesSubplot at 0x21b89f668>,\n <matplotlib.axes._subplots.AxesSubplot at 0x251fd1240>,\n <matplotlib.axes._subplots.AxesSubplot at 0x25203d048>,\n <matplotlib.axes._subplots.AxesSubplot at 0x2520aaa90>,\n <matplotlib.axes._subplots.AxesSubplot at 0x2521b87b8>,\n <matplotlib.axes._subplots.AxesSubplot at 0x25222b9b0>,\n <matplotlib.axes._subplots.AxesSubplot at 0x252335ba8>,\n <matplotlib.axes._subplots.AxesSubplot at 0x2524e1da0>]"
      ]
     },
     "execution_count": 86,
     "metadata": {},
     "output_type": "execute_result"
    }
   ],
   "source": [
    "loadings = im.get_decomposition_loadings()\n",
    "fig = plt.figure(figsize=(15, 10))\n",
    "hs.plot.plot_images(loadings.inav[:9], tight_layout=True, fig=fig)"
   ]
  },
  {
   "cell_type": "code",
   "execution_count": 24,
   "metadata": {},
   "outputs": [],
   "source": [
    "test = im.get_decomposition_loadings()\n",
    "test.plot()\n"
   ]
  },
  {
   "cell_type": "code",
   "execution_count": 9,
   "metadata": {},
   "outputs": [],
   "source": [
    "imc = im.get_decomposition_model(components=6)\n",
    "\n",
    "# calculate and display residuals\n",
    "(im - imc).plot()"
   ]
  },
  {
   "cell_type": "code",
   "execution_count": 88,
   "metadata": {},
   "outputs": [
    {
     "name": "stdout",
     "output_type": "stream",
     "text": [
      "Decomposition parameters:\n-------------------------\n\nDecomposition algorithm : \tsvd\nPoissonian noise normalization : False\nOutput dimension : None\nCentre : None\n\nDemixing parameters:\n------------------------\nBSS algorithm : sklearn_fasticaNumber of components : 20\n"
     ]
    }
   ],
   "source": [
    "# independent componant analysis\n",
    "im.blind_source_separation(number_of_components=20)\n",
    "im.learning_results.summary()"
   ]
  },
  {
   "cell_type": "code",
   "execution_count": 89,
   "metadata": {},
   "outputs": [
    {
     "data": {
      "text/plain": [
       "VBox(children=(HBox(children=(Label(value='BSS component index', layout=Layout(width='15%')), IntSlider(value=…"
      ]
     },
     "execution_count": 0,
     "metadata": {},
     "output_type": "execute_result"
    }
   ],
   "source": [
    "im.plot_bss_results()"
   ]
  },
  {
   "cell_type": "code",
   "execution_count": null,
   "metadata": {},
   "outputs": [],
   "source": []
  },
  {
   "cell_type": "code",
   "execution_count": 20,
   "metadata": {},
   "outputs": [
    {
     "name": "stderr",
     "output_type": "stream",
     "text": [
      "WARNING:hyperspy.learn.rpca:No initialization specified. Defaulting to 'qr' initialization\n"
     ]
    },
    {
     "name": "stderr",
     "output_type": "stream",
     "text": [
      "WARNING:hyperspy.learn.rpca:Number of training samples for 'qr' method not specified. Defaulting to 20 samples\n"
     ]
    },
    {
     "name": "stderr",
     "output_type": "stream",
     "text": [
      "WARNING:hyperspy.learn.rpca:Nuclear norm regularization parameter is set to default: 1 / sqrt(nfeatures)\n"
     ]
    },
    {
     "name": "stderr",
     "output_type": "stream",
     "text": [
      "WARNING:hyperspy.learn.rpca:Sparse regularization parameter is set to default: 1 / sqrt(nfeatures)\n"
     ]
    },
    {
     "data": {
      "text/plain": [
       "HBox(children=(IntProgress(value=0, max=170), HTML(value='')))"
      ]
     },
     "execution_count": 0,
     "metadata": {},
     "output_type": "execute_result"
    },
    {
     "name": "stdout",
     "output_type": "stream",
     "text": [
      "\r"
     ]
    },
    {
     "data": {
      "text/plain": [
       "<matplotlib.axes._subplots.AxesSubplot at 0x13933f518>"
      ]
     },
     "execution_count": 20,
     "metadata": {},
     "output_type": "execute_result"
    }
   ],
   "source": [
    "# online PCA\n",
    "im.decomposition(algorithm='ORPCA',\n",
    "                 output_dimension=20,\n",
    "                 method='MomentumSGD',\n",
    "                 learning_rate=1.1,\n",
    "                 momentum=0.5)\n",
    "im.plot_explained_variance_ratio()"
   ]
  },
  {
   "cell_type": "code",
   "execution_count": 14,
   "metadata": {},
   "outputs": [
    {
     "name": "stderr",
     "output_type": "stream",
     "text": [
      "WARNING:hyperspy.learn.rpca:Threshold 'lambda1' is set to default: 1 / sqrt(nsamples)\n"
     ]
    },
    {
     "name": "stderr",
     "output_type": "stream",
     "text": [
      "WARNING:hyperspy.learn.rpca:Number of power iterations not specified. Defaulting to 0\n"
     ]
    },
    {
     "name": "stderr",
     "output_type": "stream",
     "text": [
      "WARNING:hyperspy.learn.rpca:Convergence tolerance not specifed. Defaulting to 1e-3\n"
     ]
    },
    {
     "name": "stderr",
     "output_type": "stream",
     "text": [
      "WARNING:hyperspy.learn.rpca:Maximum iterations not specified. Defaulting to 1e3\n"
     ]
    }
   ],
   "source": [
    "# different decomposition algorithms\n",
    "\n",
    "algorithms = [\n",
    "    'RPCA_GoDec',\n",
    "    'ORPCA',\n",
    "    'nmf'\n",
    "]\n",
    "\n",
    "for index, algorithm in enumerate(algorithms):\n",
    "    if index in [0, 1]:\n",
    "        im.decomposition(algorithm=algorithm, output_dimension=3)\n",
    "    else:\n",
    "        im.decomposition(algorithm=algorithm)\n",
    "    im.plot_explained_variance_ratio()"
   ]
  },
  {
   "cell_type": "code",
   "execution_count": 21,
   "metadata": {},
   "outputs": [
    {
     "data": {
      "text/plain": [
       "VBox(children=(HBox(children=(Label(value='Decomposition component index', layout=Layout(width='15%')), IntSli…"
      ]
     },
     "execution_count": 0,
     "metadata": {},
     "output_type": "execute_result"
    }
   ],
   "source": [
    "im.plot_decomposition_results()"
   ]
  },
  {
   "cell_type": "code",
   "execution_count": 20,
   "metadata": {},
   "outputs": [
    {
     "name": "stdout",
     "output_type": "stream",
     "text": [
      "Decomposition parameters:\n-------------------------\n\nDecomposition algorithm : \tORPCA\nPoissonian noise normalization : False\nOutput dimension : 20\nCentre : None\n\nDemixing parameters:\n------------------------\nBSS algorithm : sklearn_fasticaNumber of components : 10\n"
     ]
    }
   ],
   "source": [
    "im.learning_results.summary()"
   ]
  },
  {
   "cell_type": "code",
   "execution_count": 23,
   "metadata": {},
   "outputs": [],
   "source": [
    "im.blind_source_separation(10)"
   ]
  },
  {
   "cell_type": "code",
   "execution_count": 24,
   "metadata": {},
   "outputs": [
    {
     "data": {
      "text/plain": [
       "VBox(children=(HBox(children=(Label(value='BSS component index', layout=Layout(width='15%')), IntSlider(value=…"
      ]
     },
     "execution_count": 0,
     "metadata": {},
     "output_type": "execute_result"
    }
   ],
   "source": [
    "im.plot_bss_results()"
   ]
  },
  {
   "cell_type": "code",
   "execution_count": 24,
   "metadata": {},
   "outputs": [],
   "source": [
    ""
   ]
  },
  {
   "cell_type": "code",
   "execution_count": 13,
   "metadata": {},
   "outputs": [
    {
     "ename": "AttributeError",
     "evalue": "module 'sklearn' has no attribute 'cluster'",
     "traceback": [
      "\u001b[0;31m---------------------------------------------------------------------------\u001b[0m",
      "\u001b[0;31mAttributeError\u001b[0m                            Traceback (most recent call last)",
      "\u001b[0;32m<ipython-input-13-e0d761abeeef>\u001b[0m in \u001b[0;36m<module>\u001b[0;34m\u001b[0m\n\u001b[0;32m----> 1\u001b[0;31m \u001b[0msc\u001b[0m \u001b[0;34m=\u001b[0m \u001b[0msklearn\u001b[0m\u001b[0;34m.\u001b[0m\u001b[0mcluster\u001b[0m\u001b[0;34m.\u001b[0m\u001b[0mSpectralClustering\u001b[0m\u001b[0;34m(\u001b[0m\u001b[0;34m)\u001b[0m\u001b[0;34m\u001b[0m\u001b[0m\n\u001b[0m\u001b[1;32m      2\u001b[0m \u001b[0msc\u001b[0m\u001b[0;34m.\u001b[0m\u001b[0mfit\u001b[0m\u001b[0;34m(\u001b[0m\u001b[0mim\u001b[0m\u001b[0;34m.\u001b[0m\u001b[0mdata\u001b[0m\u001b[0;34m)\u001b[0m\u001b[0;34m\u001b[0m\u001b[0m\n\u001b[1;32m      3\u001b[0m \u001b[0my_pred\u001b[0m \u001b[0;34m=\u001b[0m \u001b[0msc\u001b[0m\u001b[0;34m.\u001b[0m\u001b[0mlabels_\u001b[0m\u001b[0;34m\u001b[0m\u001b[0m\n\u001b[1;32m      4\u001b[0m \u001b[0mprint\u001b[0m\u001b[0;34m(\u001b[0m\u001b[0my_pred\u001b[0m\u001b[0;34m)\u001b[0m\u001b[0;34m\u001b[0m\u001b[0m\n",
      "\u001b[0;31mAttributeError\u001b[0m: module 'sklearn' has no attribute 'cluster'"
     ],
     "output_type": "error"
    }
   ],
   "source": [
    "sc = sklearn.cluster.SpectralClustering()\n",
    "sc.fit(im.data)\n",
    "y_pred = sc.labels_\n",
    "print(y_pred)"
   ]
  },
  {
   "cell_type": "code",
   "execution_count": null,
   "metadata": {},
   "outputs": [
    {
     "ename": "AttributeError",
     "evalue": "module 'sklearn' has no attribute 'cluster'",
     "traceback": [
      "\u001b[0;31m---------------------------------------------------------------------------\u001b[0m",
      "\u001b[0;31mAttributeError\u001b[0m                            Traceback (most recent call last)",
      "\u001b[0;32m<ipython-input-5-ea947159ce1f>\u001b[0m in \u001b[0;36m<module>\u001b[0;34m\u001b[0m\n\u001b[0;32m----> 1\u001b[0;31m \u001b[0msc\u001b[0m \u001b[0;34m=\u001b[0m \u001b[0msklearn\u001b[0m\u001b[0;34m.\u001b[0m\u001b[0mcluster\u001b[0m\u001b[0;34m.\u001b[0m\u001b[0mSpectralClustering\u001b[0m\u001b[0;34m(\u001b[0m\u001b[0;34m)\u001b[0m\u001b[0;34m\u001b[0m\u001b[0m\n\u001b[0m\u001b[1;32m      2\u001b[0m \u001b[0msc\u001b[0m\u001b[0;34m.\u001b[0m\u001b[0mfit\u001b[0m\u001b[0;34m(\u001b[0m\u001b[0mim\u001b[0m\u001b[0;34m)\u001b[0m\u001b[0;34m\u001b[0m\u001b[0m\n\u001b[1;32m      3\u001b[0m \u001b[0my_pred\u001b[0m \u001b[0;34m=\u001b[0m \u001b[0msc\u001b[0m\u001b[0;34m.\u001b[0m\u001b[0mlabels_\u001b[0m\u001b[0;34m\u001b[0m\u001b[0m\n\u001b[1;32m      4\u001b[0m \u001b[0mprint\u001b[0m\u001b[0;34m(\u001b[0m\u001b[0my_pred\u001b[0m\u001b[0;34m)\u001b[0m\u001b[0;34m\u001b[0m\u001b[0m\n",
      "\u001b[0;31mAttributeError\u001b[0m: module 'sklearn' has no attribute 'cluster'"
     ],
     "output_type": "error"
    }
   ],
   "source": [
    "\n",
    "sc.fit_predict()"
   ]
  }
 ],
 "metadata": {
  "kernelspec": {
   "display_name": "Python 3",
   "language": "python",
   "name": "python3"
  },
  "language_info": {
   "codemirror_mode": {
    "name": "ipython",
    "version": 3
   },
   "file_extension": ".py",
   "mimetype": "text/x-python",
   "name": "python",
   "nbconvert_exporter": "python",
   "pygments_lexer": "ipython3",
   "version": "3.6.6"
  }
 },
 "nbformat": 4,
 "nbformat_minor": 1
}
