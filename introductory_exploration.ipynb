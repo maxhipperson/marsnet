{
 "cells": [
  {
   "cell_type": "code",
   "execution_count": 1,
   "metadata": {},
   "outputs": [
    {
     "name": "stdout",
     "output_type": "stream",
     "text": [
      "Imported frt00003bfb_07_if166j_mtr3.hdr\nwavelength units - Nanometers\n"
     ]
    },
    {
     "name": "stderr",
     "output_type": "stream",
     "text": [
      "/Users/maxhipperson/.virtualenvs/marsnet-ZEfWMKGE/lib/python3.6/site-packages/skimage/external/tifffile/tifffile.py:2128: UserWarning: tags are not ordered by code\n  warnings.warn(\"tags are not ordered by code\")\n"
     ]
    },
    {
     "name": "stdout",
     "output_type": "stream",
     "text": [
      "Imported frt00003bfb_data_cube.tif\n"
     ]
    }
   ],
   "source": [
    "%matplotlib qt\n",
    "import os\n",
    "import config as cfg\n",
    "import hyperspy.api as hs\n",
    "from skimage import io\n",
    "import sklearn\n",
    "import numpy as np\n",
    "import matplotlib.pyplot as plt\n",
    "import envi_header\n",
    "from sklearn.cluster import SpectralClustering\n",
    "\n",
    "image_id = 'frt00003bfb'\n",
    "\n",
    "# read header file\n",
    "hdr_filename = image_id + '_07_if166j_mtr3.hdr'\n",
    "hdr_filepath = os.path.join(cfg.DATA_DIR, hdr_filename)\n",
    "header = envi_header.read_hdr_file(hdr_filepath)\n",
    "\n",
    "print('Imported {}'.format(hdr_filename))\n",
    "print('wavelength units - {}'.format(header['wavelength units']))\n",
    "\n",
    "# read tiff file\n",
    "img_filename = image_id + '_data_cube.tif'\n",
    "img_filepath = os.path.join(cfg.DATA_DIR, img_filename)\n",
    "img = io.imread(img_filepath)\n",
    "\n",
    "print('Imported {}'.format(img_filename))\n",
    "\n",
    "c, w, h = img.shape\n",
    "img = img.transpose(1, 2, 0)\n",
    "\n",
    "# remove ignored values\n",
    "img[img == header['data ignore value']] = 0"
   ]
  },
  {
   "cell_type": "code",
   "execution_count": 9,
   "metadata": {},
   "outputs": [],
   "source": [
    "'''\n",
    "Import the image into a signal class object\n",
    "'''\n",
    "\n",
    "axes_x = {'name': 'x', 'size': img.shape[0], 'units': 'px'}\n",
    "axes_y = {'name': 'y', 'size': img.shape[1], 'units': 'px'}\n",
    "axes_w = {'name': 'wavelength band', 'size': img.shape[2], 'units': 'index'}\n",
    "\n",
    "# convert image to signal object\n",
    "im = hs.signals.Signal1D(img, axes=[axes_x, axes_y, axes_w])\n",
    "im.axes_manager\n",
    "\n",
    "# Set wavelength bounds to crop the spectrum to.\n",
    "crop_spectra = True\n",
    "\n",
    "if crop_spectra:\n",
    "    \n",
    "    lower = 1000\n",
    "    upper = 2800\n",
    "    \n",
    "    # find the index of the boundary wavelengths in the header\n",
    "    wavelength = np.array(header['wavelength'])\n",
    "    lower_index = np.argmax(wavelength >= lower)\n",
    "    upper_index = np.argmax(wavelength > upper) - 1\n",
    "    \n",
    "    # crop the signal to the specified range\n",
    "    im.crop_signal1D(lower_index, upper_index)\n",
    "    \n",
    "    # crop to central section of image\n",
    "    # im.crop('x', 200, 600)\n",
    "    # im.crop('y', 200, 600)\n",
    "\n",
    "im.plot()"
   ]
  },
  {
   "cell_type": "code",
   "execution_count": 10,
   "metadata": {},
   "outputs": [
    {
     "name": "stdout",
     "output_type": "stream",
     "text": [
      "Decomposition parameters:\n-------------------------\n\nDecomposition algorithm : \tsvd\nPoissonian noise normalization : False\nOutput dimension : None\nCentre : None\n"
     ]
    },
    {
     "data": {
      "text/plain": [
       "VBox(children=(HBox(children=(Label(value='Decomposition component index', layout=Layout(width='15%')), IntSli…"
      ]
     },
     "execution_count": 0,
     "metadata": {},
     "output_type": "execute_result"
    }
   ],
   "source": [
    "im.decomposition()\n",
    "im.learning_results.summary()\n",
    "im.plot_explained_variance_ratio(threshold=0.005)\n",
    "im.plot_decomposition_results()"
   ]
  },
  {
   "cell_type": "code",
   "execution_count": 7,
   "metadata": {
    "collapsed": true
   },
   "outputs": [
    {
     "data": {
      "text/plain": [
       "<matplotlib.axes._subplots.AxesSubplot at 0x12ffb2fd0>"
      ]
     },
     "execution_count": 7,
     "metadata": {},
     "output_type": "execute_result"
    }
   ],
   "source": [
    "factors = im.get_decomposition_factors()\n",
    "fig = plt.figure(figsize=(10, 10))\n",
    "hs.plot.plot_spectra(factors.inav[:9], legend='auto', fig=fig)"
   ]
  },
  {
   "cell_type": "code",
   "execution_count": 12,
   "metadata": {},
   "outputs": [
    {
     "data": {
      "text/plain": [
       "[<matplotlib.axes._subplots.AxesSubplot at 0x134ccdb70>,\n <matplotlib.axes._subplots.AxesSubplot at 0x13132ae48>,\n <matplotlib.axes._subplots.AxesSubplot at 0x134cfffd0>,\n <matplotlib.axes._subplots.AxesSubplot at 0x135ac2ba8>,\n <matplotlib.axes._subplots.AxesSubplot at 0x116fda8d0>,\n <matplotlib.axes._subplots.AxesSubplot at 0x12f021668>,\n <matplotlib.axes._subplots.AxesSubplot at 0x12f0e2400>,\n <matplotlib.axes._subplots.AxesSubplot at 0x1048054a8>,\n <matplotlib.axes._subplots.AxesSubplot at 0x130e066d8>]"
      ]
     },
     "execution_count": 12,
     "metadata": {},
     "output_type": "execute_result"
    }
   ],
   "source": [
    "loadings = im.get_decomposition_loadings()\n",
    "fig = plt.figure(figsize=(15, 10))\n",
    "hs.plot.plot_images(loadings.inav[:9], tight_layout=True, fig=fig)"
   ]
  },
  {
   "cell_type": "code",
   "execution_count": 24,
   "metadata": {},
   "outputs": [],
   "source": [
    "test = im.get_decomposition_loadings()\n",
    "test.plot()\n"
   ]
  },
  {
   "cell_type": "code",
   "execution_count": 9,
   "metadata": {},
   "outputs": [],
   "source": [
    "imc = im.get_decomposition_model(components=6)\n",
    "\n",
    "# calculate and display residuals\n",
    "(im - imc).plot()"
   ]
  },
  {
   "cell_type": "code",
   "execution_count": 11,
   "metadata": {},
   "outputs": [
    {
     "name": "stderr",
     "output_type": "stream",
     "text": [
      "/Users/maxhipperson/.virtualenvs/marsnet-ZEfWMKGE/lib/python3.6/site-packages/sklearn/decomposition/fastica_.py:121: ConvergenceWarning: FastICA did not converge. Consider increasing tolerance or the maximum number of iterations.\n  ConvergenceWarning)\n"
     ]
    },
    {
     "name": "stdout",
     "output_type": "stream",
     "text": [
      "Decomposition parameters:\n-------------------------\n\nDecomposition algorithm : \tsvd\nPoissonian noise normalization : False\nOutput dimension : None\nCentre : None\n\nDemixing parameters:\n------------------------\nBSS algorithm : sklearn_fasticaNumber of components : 20\n"
     ]
    }
   ],
   "source": [
    "# independent componant analysis\n",
    "im.blind_source_separation(number_of_components=20)\n",
    "im.learning_results.summary()"
   ]
  },
  {
   "cell_type": "code",
   "execution_count": 12,
   "metadata": {},
   "outputs": [
    {
     "data": {
      "text/plain": [
       "VBox(children=(HBox(children=(Label(value='BSS component index', layout=Layout(width='15%')), IntSlider(value=…"
      ]
     },
     "execution_count": 0,
     "metadata": {},
     "output_type": "execute_result"
    }
   ],
   "source": [
    "im.plot_bss_results()"
   ]
  },
  {
   "cell_type": "code",
   "execution_count": null,
   "metadata": {
    "collapsed": false
   },
   "outputs": [
    {
     "ename": "NameError",
     "evalue": "name 'im' is not defined",
     "traceback": [
      "\u001b[0;31m---------------------------------------------------------------------------\u001b[0m",
      "\u001b[0;31mNameError\u001b[0m                                 Traceback (most recent call last)",
      "\u001b[0;32m<ipython-input-1-1dbece0973c3>\u001b[0m in \u001b[0;36m<module>\u001b[0;34m\u001b[0m\n\u001b[0;32m----> 1\u001b[0;31m \u001b[0mdata\u001b[0m \u001b[0;34m=\u001b[0m \u001b[0mim\u001b[0m\u001b[0;34m.\u001b[0m\u001b[0mdata\u001b[0m\u001b[0;34m\u001b[0m\u001b[0m\n\u001b[0m\u001b[1;32m      2\u001b[0m \u001b[0mold_shape\u001b[0m \u001b[0;34m=\u001b[0m \u001b[0mdata\u001b[0m\u001b[0;34m.\u001b[0m\u001b[0mshape\u001b[0m\u001b[0;34m\u001b[0m\u001b[0m\n\u001b[1;32m      3\u001b[0m \u001b[0mprint\u001b[0m\u001b[0;34m(\u001b[0m\u001b[0mold_shape\u001b[0m\u001b[0;34m)\u001b[0m\u001b[0;34m\u001b[0m\u001b[0m\n\u001b[1;32m      4\u001b[0m \u001b[0;34m\u001b[0m\u001b[0m\n\u001b[1;32m      5\u001b[0m \u001b[0mn_clusters\u001b[0m \u001b[0;34m=\u001b[0m \u001b[0;36m8\u001b[0m\u001b[0;34m\u001b[0m\u001b[0m\n",
      "\u001b[0;31mNameError\u001b[0m: name 'im' is not defined"
     ],
     "output_type": "error"
    }
   ],
   "source": [
    "data = im.data\n",
    "old_shape = data.shape\n",
    "print(old_shape)\n",
    "\n",
    "n_clusters = 8\n",
    "\n",
    "# get clusters\n",
    "\n",
    "# flatten the data\n",
    "flat = np.reshape(data, (old_shape[0]*old_shape[1], old_shape[2]))\n",
    "print(flat.shape)\n",
    "\n",
    "# for i in range(old_shape[0]):\n",
    "#     y = i\n",
    "#     for j in range(old_shape[1]):\n",
    "#         x = j\n",
    "#         \n",
    "#         old_spectrum = data[i, j, :]\n",
    "#         new_spectrum = flat[y * old_shape[0] + x, :]\n",
    "#         \n",
    "#         issame = np.array_equal(old_spectrum, new_spectrum)\n",
    "#         if not issame:\n",
    "#             print('AHHHH')\n",
    "\n",
    "# normalise each spectrum\n",
    "# print(flat.mean(axis=1, keepdims=True).shape)\n",
    "# print(flat.mean(axis=1, keepdims=True)[:3])\n",
    "# print(flat.std(axis=1, keepdims=True)[:3])\n",
    "#       \n",
    "flat -= flat.mean(axis=1, keepdims=True)\n",
    "flat /= flat.std(axis=1, keepdims=True)\n",
    "# \n",
    "# print(flat.mean(axis=1, keepdims=True)[:3])\n",
    "# print(flat.std(axis=1, keepdims=True)[:3])\n",
    "\n",
    "sc = SpectralClustering(n_clusters=n_clusters,\n",
    "                        # assign_labels='discretize',\n",
    "                        ).fit(flat)\n",
    "labels = sc.labels_\n",
    "print(labels.shape)"
   ]
  },
  {
   "cell_type": "code",
   "execution_count": null,
   "metadata": {},
   "outputs": [
    {
     "ename": "AttributeError",
     "evalue": "module 'sklearn' has no attribute 'cluster'",
     "traceback": [
      "\u001b[0;31m---------------------------------------------------------------------------\u001b[0m",
      "\u001b[0;31mAttributeError\u001b[0m                            Traceback (most recent call last)",
      "\u001b[0;32m<ipython-input-5-ea947159ce1f>\u001b[0m in \u001b[0;36m<module>\u001b[0;34m\u001b[0m\n\u001b[0;32m----> 1\u001b[0;31m \u001b[0msc\u001b[0m \u001b[0;34m=\u001b[0m \u001b[0msklearn\u001b[0m\u001b[0;34m.\u001b[0m\u001b[0mcluster\u001b[0m\u001b[0;34m.\u001b[0m\u001b[0mSpectralClustering\u001b[0m\u001b[0;34m(\u001b[0m\u001b[0;34m)\u001b[0m\u001b[0;34m\u001b[0m\u001b[0m\n\u001b[0m\u001b[1;32m      2\u001b[0m \u001b[0msc\u001b[0m\u001b[0;34m.\u001b[0m\u001b[0mfit\u001b[0m\u001b[0;34m(\u001b[0m\u001b[0mim\u001b[0m\u001b[0;34m)\u001b[0m\u001b[0;34m\u001b[0m\u001b[0m\n\u001b[1;32m      3\u001b[0m \u001b[0my_pred\u001b[0m \u001b[0;34m=\u001b[0m \u001b[0msc\u001b[0m\u001b[0;34m.\u001b[0m\u001b[0mlabels_\u001b[0m\u001b[0;34m\u001b[0m\u001b[0m\n\u001b[1;32m      4\u001b[0m \u001b[0mprint\u001b[0m\u001b[0;34m(\u001b[0m\u001b[0my_pred\u001b[0m\u001b[0;34m)\u001b[0m\u001b[0;34m\u001b[0m\u001b[0m\n",
      "\u001b[0;31mAttributeError\u001b[0m: module 'sklearn' has no attribute 'cluster'"
     ],
     "output_type": "error"
    }
   ],
   "source": [
    "\n",
    "sc.fit_predict()"
   ]
  }
 ],
 "metadata": {
  "kernelspec": {
   "display_name": "Python 3",
   "language": "python",
   "name": "python3"
  },
  "language_info": {
   "codemirror_mode": {
    "name": "ipython",
    "version": 3
   },
   "file_extension": ".py",
   "mimetype": "text/x-python",
   "name": "python",
   "nbconvert_exporter": "python",
   "pygments_lexer": "ipython3",
   "version": "3.6.6"
  }
 },
 "nbformat": 4,
 "nbformat_minor": 1
}
