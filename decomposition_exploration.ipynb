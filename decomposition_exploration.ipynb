{
 "cells": [
  {
   "cell_type": "code",
   "execution_count": 12,
   "metadata": {},
   "outputs": [
    {
     "name": "stdout",
     "output_type": "stream",
     "text": [
      "{'description': '{', 'samples': '851', 'lines': '797', 'bands': '489', 'header offset': '0', 'file type': 'ENVI Standard', 'data type': '4', 'interleave': 'bsq', 'sensor type': 'Unknown', 'byte order': '0', 'map info': '{MRO Mars Equirectangular [IAU 2000] [20.00N; 0.00E], 1.0000, 1.0000, -1020964.3000, 1339036.0000, 1.8000000000e+01, 1.8000000000e+01, D_Mars_2000_IAU_IAG_custom_sphere_lat20, units', 'projection info': '{17, 3393833.3, 20.000000, 0.000000, 0.0, 0.0, D_Mars_2000_IAU_IAG_custom_sphere_lat20, MRO Mars Equirectangular [IAU 2000] [20.00N; 0.00E], units', 'coordinate system string': '{PROJCS[\"MRO Mars Equirectangular [IAU 2000] [20.00N; 0.00E]\",GEOGCS[\"GCS_Mars_2000_IAU_IAG_custom_sphere_lat20\",DATUM[\"D_Mars_2000_IAU_IAG_custom_sphere_lat20\",SPHEROID[\"Mars_2000_IAU_IAG_custom_sphere_lat20\",3393833.260758386,0.0]],PRIMEM[\"Reference_Meridian\",0.0],UNIT[\"Degree\",0.0174532925199433]],PROJECTION[\"Equidistant_Cylindrical\"],PARAMETER[\"False_Easting\",0.0],PARAMETER[\"False_Northing\",0.0],PARAMETER[\"Central_Meridian\",0.0],PARAMETER[\"Standard_Parallel_1\",20.0],UNIT[\"Meter\",1.0]]}', 'default bands': '{304,122,41}', 'sun azimuth': '-1.00000000', 'sun elevation': '-1.00000000', 'cloud cover': '-1.00000000', 'wavelength units': 'Nanometers', 'data ignore value': '6.55350000e+04', 'default stretch': '1.0% linear', 'wavelength': '{', 'fwhm': '{', 'bbl': '{'}\n"
     ]
    }
   ],
   "source": [
    "import os\n",
    "import config as cfg\n",
    "# read in the header\n",
    "\n",
    "filename = 'frt00003bfb_07_if166j_mtr3.hdr'\n",
    "filepath = os.path.join(cfg.DATA_DIR, filename)\n",
    "with open(filepath) as file:\n",
    "    lines = [line.strip() for line in file]\n",
    "\n",
    "# hdr = {}\n",
    "# for line in lines:\n",
    "#     if '=' in line:\n",
    "#         pair = line.split('=')\n",
    "#         hdr.update({pair[0].strip(): pair[1].strip()})\n",
    "# print(hdr)"
   ]
  },
  {
   "cell_type": "code",
   "execution_count": 1,
   "metadata": {},
   "outputs": [],
   "source": [
    "%matplotlib qt\n",
    "import os\n",
    "import config as cfg\n",
    "import hyperspy.api as hs\n",
    "from skimage import io\n",
    "import sklearn\n",
    "import numpy as np\n",
    "import matplotlib.pyplot as plt"
   ]
  },
  {
   "cell_type": "code",
   "execution_count": 2,
   "metadata": {},
   "outputs": [
    {
     "name": "stderr",
     "output_type": "stream",
     "text": [
      "/Users/maxhipperson/.virtualenvs/marsnet-ZEfWMKGE/lib/python3.6/site-packages/skimage/external/tifffile/tifffile.py:2128: UserWarning: tags are not ordered by code\n  warnings.warn(\"tags are not ordered by code\")\n"
     ]
    }
   ],
   "source": [
    "'''\n",
    "Import the image and set axes labels\n",
    "'''\n",
    "\n",
    "# read in tiff image\n",
    "imgname = 'frt00009a16_data_cube.tif'\n",
    "imgpath = os.path.join(cfg.DATA_DIR, imgname)\n",
    "img = io.imread(imgpath)\n",
    "\n",
    "# get shape and transpose channels to end dimension\n",
    "c, w, h = img.shape\n",
    "img = img.transpose(1, 2, 0)\n",
    "\n",
    "# remove values above 1\n",
    "img[img > 1] = 0\n",
    "\n",
    "axes_x = {'name': 'x', 'size': img.shape[0], 'units': 'px'}\n",
    "axes_y = {'name': 'y', 'size': img.shape[1], 'units': 'px'}\n",
    "axes_w = {'name': 'wavelength band', 'size': img.shape[2], 'units': 'index'}\n",
    "\n",
    "# convert image to signal object\n",
    "im = hs.signals.Signal1D(img, axes=[axes_x, axes_y, axes_w])\n",
    "im.axes_manager\n",
    "im.plot()"
   ]
  },
  {
   "cell_type": "code",
   "execution_count": 5,
   "metadata": {},
   "outputs": [
    {
     "name": "stdout",
     "output_type": "stream",
     "text": [
      "Decomposition parameters:\n-------------------------\n\nDecomposition algorithm : \tsvd\nPoissonian noise normalization : False\nOutput dimension : None\nCentre : None\n"
     ]
    }
   ],
   "source": [
    "'''\n",
    "PCA\n",
    "'''\n",
    "\n",
    "im.decomposition()\n",
    "im.learning_results.summary()"
   ]
  },
  {
   "cell_type": "code",
   "execution_count": 7,
   "metadata": {},
   "outputs": [
    {
     "data": {
      "text/plain": [
       "<matplotlib.axes._subplots.AxesSubplot at 0x130a6cda0>"
      ]
     },
     "execution_count": 7,
     "metadata": {},
     "output_type": "execute_result"
    }
   ],
   "source": [
    "im.plot_explained_variance_ratio(threshold=0.005)"
   ]
  },
  {
   "cell_type": "code",
   "execution_count": 8,
   "metadata": {},
   "outputs": [
    {
     "data": {
      "text/plain": [
       "VBox(children=(HBox(children=(Label(value='Decomposition component index', layout=Layout(width='15%')), IntSli…"
      ]
     },
     "execution_count": 0,
     "metadata": {},
     "output_type": "execute_result"
    }
   ],
   "source": [
    "im.plot_decomposition_results()"
   ]
  },
  {
   "cell_type": "code",
   "execution_count": 9,
   "metadata": {},
   "outputs": [],
   "source": [
    "imc = im.get_decomposition_model(components=6)\n",
    "\n",
    "# calculate and display residuals\n",
    "(im - imc).plot()"
   ]
  },
  {
   "cell_type": "code",
   "execution_count": 9,
   "metadata": {},
   "outputs": [
    {
     "name": "stdout",
     "output_type": "stream",
     "text": [
      "Decomposition parameters:\n-------------------------\n\nDecomposition algorithm : \tsvd\nPoissonian noise normalization : False\nOutput dimension : None\nCentre : None\n\nDemixing parameters:\n------------------------\nBSS algorithm : sklearn_fasticaNumber of components : 10\n"
     ]
    },
    {
     "name": "stderr",
     "output_type": "stream",
     "text": [
      "/Users/maxhipperson/.virtualenvs/marsnet-ZEfWMKGE/lib/python3.6/site-packages/scipy/linalg/basic.py:1321: RuntimeWarning: internal gelsd driver lwork query error, required iwork dimension not returned. This is likely the result of LAPACK bug 0038, fixed in LAPACK 3.2.2 (released July 21, 2010). Falling back to 'gelss' driver.\n  x, resids, rank, s = lstsq(a, b, cond=cond, check_finite=False)\n"
     ]
    }
   ],
   "source": [
    "# independent componant analysis\n",
    "im.blind_source_separation(number_of_components=10)\n",
    "im.learning_results.summary()"
   ]
  },
  {
   "cell_type": "code",
   "execution_count": 10,
   "metadata": {},
   "outputs": [
    {
     "data": {
      "text/plain": [
       "VBox(children=(HBox(children=(Label(value='BSS component index', layout=Layout(width='15%')), IntSlider(value=…"
      ]
     },
     "execution_count": 0,
     "metadata": {},
     "output_type": "execute_result"
    }
   ],
   "source": [
    "im.plot_bss_results()"
   ]
  },
  {
   "cell_type": "code",
   "execution_count": 11,
   "metadata": {},
   "outputs": [
    {
     "name": "stderr",
     "output_type": "stream",
     "text": [
      "WARNING:hyperspy.learn.rpca:No initialization specified. Defaulting to 'qr' initialization\n"
     ]
    },
    {
     "name": "stderr",
     "output_type": "stream",
     "text": [
      "WARNING:hyperspy.learn.rpca:Number of training samples for 'qr' method not specified. Defaulting to 20 samples\n"
     ]
    },
    {
     "name": "stderr",
     "output_type": "stream",
     "text": [
      "WARNING:hyperspy.learn.rpca:Nuclear norm regularization parameter is set to default: 1 / sqrt(nfeatures)\n"
     ]
    },
    {
     "name": "stderr",
     "output_type": "stream",
     "text": [
      "WARNING:hyperspy.learn.rpca:Sparse regularization parameter is set to default: 1 / sqrt(nfeatures)\n"
     ]
    },
    {
     "data": {
      "text/plain": [
       "HBox(children=(IntProgress(value=0, max=489), HTML(value='')))"
      ]
     },
     "execution_count": 0,
     "metadata": {},
     "output_type": "execute_result"
    },
    {
     "name": "stdout",
     "output_type": "stream",
     "text": [
      "\r"
     ]
    },
    {
     "data": {
      "text/plain": [
       "<matplotlib.axes._subplots.AxesSubplot at 0x130b1a3c8>"
      ]
     },
     "execution_count": 11,
     "metadata": {},
     "output_type": "execute_result"
    }
   ],
   "source": [
    "# online PCA\n",
    "im.decomposition(algorithm='ORPCA',\n",
    "                 output_dimension=20,\n",
    "                 method='MomentumSGD',\n",
    "                 learning_rate=1.1,\n",
    "                 momentum=0.5)\n",
    "im.plot_explained_variance_ratio()"
   ]
  },
  {
   "cell_type": "code",
   "execution_count": 14,
   "metadata": {},
   "outputs": [
    {
     "name": "stderr",
     "output_type": "stream",
     "text": [
      "WARNING:hyperspy.learn.rpca:Threshold 'lambda1' is set to default: 1 / sqrt(nsamples)\n"
     ]
    },
    {
     "name": "stderr",
     "output_type": "stream",
     "text": [
      "WARNING:hyperspy.learn.rpca:Number of power iterations not specified. Defaulting to 0\n"
     ]
    },
    {
     "name": "stderr",
     "output_type": "stream",
     "text": [
      "WARNING:hyperspy.learn.rpca:Convergence tolerance not specifed. Defaulting to 1e-3\n"
     ]
    },
    {
     "name": "stderr",
     "output_type": "stream",
     "text": [
      "WARNING:hyperspy.learn.rpca:Maximum iterations not specified. Defaulting to 1e3\n"
     ]
    }
   ],
   "source": [
    "# different decomposition algorithms\n",
    "\n",
    "algorithms = [\n",
    "    'RPCA_GoDec',\n",
    "    'ORPCA',\n",
    "    'nmf'\n",
    "]\n",
    "\n",
    "for index, algorithm in enumerate(algorithms):\n",
    "    if index in [0, 1]:\n",
    "        im.decomposition(algorithm=algorithm, output_dimension=3)\n",
    "    else:\n",
    "        im.decomposition(algorithm=algorithm)\n",
    "    im.plot_explained_variance_ratio()"
   ]
  },
  {
   "cell_type": "code",
   "execution_count": 13,
   "metadata": {},
   "outputs": [
    {
     "data": {
      "text/plain": [
       "VBox(children=(HBox(children=(Label(value='Decomposition component index', layout=Layout(width='15%')), IntSli…"
      ]
     },
     "execution_count": 0,
     "metadata": {},
     "output_type": "execute_result"
    }
   ],
   "source": [
    "im.plot_decomposition_results()"
   ]
  },
  {
   "cell_type": "code",
   "execution_count": 20,
   "metadata": {},
   "outputs": [
    {
     "name": "stdout",
     "output_type": "stream",
     "text": [
      "Decomposition parameters:\n-------------------------\n\nDecomposition algorithm : \tORPCA\nPoissonian noise normalization : False\nOutput dimension : 20\nCentre : None\n\nDemixing parameters:\n------------------------\nBSS algorithm : sklearn_fasticaNumber of components : 10\n"
     ]
    }
   ],
   "source": [
    "im.learning_results.summary()"
   ]
  },
  {
   "cell_type": "code",
   "execution_count": 21,
   "metadata": {},
   "outputs": [],
   "source": [
    "im.blind_source_separation(10)"
   ]
  },
  {
   "cell_type": "code",
   "execution_count": 22,
   "metadata": {},
   "outputs": [
    {
     "data": {
      "text/plain": [
       "VBox(children=(HBox(children=(Label(value='BSS component index', layout=Layout(width='15%')), IntSlider(value=…"
      ]
     },
     "execution_count": 0,
     "metadata": {},
     "output_type": "execute_result"
    }
   ],
   "source": [
    "im.plot_bss_results()"
   ]
  },
  {
   "cell_type": "code",
   "execution_count": 24,
   "metadata": {},
   "outputs": [],
   "source": [
    "imc = im.get_decomposition_model(components=6)\n",
    "\n",
    "# calculate and display residuals\n",
    "(im - imc).plot()"
   ]
  },
  {
   "cell_type": "code",
   "execution_count": 5,
   "metadata": {},
   "outputs": [
    {
     "ename": "AttributeError",
     "evalue": "module 'sklearn' has no attribute 'cluster'",
     "traceback": [
      "\u001b[0;31m---------------------------------------------------------------------------\u001b[0m",
      "\u001b[0;31mAttributeError\u001b[0m                            Traceback (most recent call last)",
      "\u001b[0;32m<ipython-input-5-ea947159ce1f>\u001b[0m in \u001b[0;36m<module>\u001b[0;34m\u001b[0m\n\u001b[0;32m----> 1\u001b[0;31m \u001b[0msc\u001b[0m \u001b[0;34m=\u001b[0m \u001b[0msklearn\u001b[0m\u001b[0;34m.\u001b[0m\u001b[0mcluster\u001b[0m\u001b[0;34m.\u001b[0m\u001b[0mSpectralClustering\u001b[0m\u001b[0;34m(\u001b[0m\u001b[0;34m)\u001b[0m\u001b[0;34m\u001b[0m\u001b[0m\n\u001b[0m\u001b[1;32m      2\u001b[0m \u001b[0msc\u001b[0m\u001b[0;34m.\u001b[0m\u001b[0mfit\u001b[0m\u001b[0;34m(\u001b[0m\u001b[0mim\u001b[0m\u001b[0;34m)\u001b[0m\u001b[0;34m\u001b[0m\u001b[0m\n\u001b[1;32m      3\u001b[0m \u001b[0my_pred\u001b[0m \u001b[0;34m=\u001b[0m \u001b[0msc\u001b[0m\u001b[0;34m.\u001b[0m\u001b[0mlabels_\u001b[0m\u001b[0;34m\u001b[0m\u001b[0m\n\u001b[1;32m      4\u001b[0m \u001b[0mprint\u001b[0m\u001b[0;34m(\u001b[0m\u001b[0my_pred\u001b[0m\u001b[0;34m)\u001b[0m\u001b[0;34m\u001b[0m\u001b[0m\n",
      "\u001b[0;31mAttributeError\u001b[0m: module 'sklearn' has no attribute 'cluster'"
     ],
     "output_type": "error"
    }
   ],
   "source": [
    "sc = sklearn.cluster.SpectralClustering()\n",
    "sc.fit(im)\n",
    "y_pred = sc.labels_\n",
    "print(y_pred)"
   ]
  },
  {
   "cell_type": "code",
   "execution_count": null,
   "metadata": {},
   "outputs": [
    {
     "ename": "AttributeError",
     "evalue": "module 'sklearn' has no attribute 'cluster'",
     "traceback": [
      "\u001b[0;31m---------------------------------------------------------------------------\u001b[0m",
      "\u001b[0;31mAttributeError\u001b[0m                            Traceback (most recent call last)",
      "\u001b[0;32m<ipython-input-5-ea947159ce1f>\u001b[0m in \u001b[0;36m<module>\u001b[0;34m\u001b[0m\n\u001b[0;32m----> 1\u001b[0;31m \u001b[0msc\u001b[0m \u001b[0;34m=\u001b[0m \u001b[0msklearn\u001b[0m\u001b[0;34m.\u001b[0m\u001b[0mcluster\u001b[0m\u001b[0;34m.\u001b[0m\u001b[0mSpectralClustering\u001b[0m\u001b[0;34m(\u001b[0m\u001b[0;34m)\u001b[0m\u001b[0;34m\u001b[0m\u001b[0m\n\u001b[0m\u001b[1;32m      2\u001b[0m \u001b[0msc\u001b[0m\u001b[0;34m.\u001b[0m\u001b[0mfit\u001b[0m\u001b[0;34m(\u001b[0m\u001b[0mim\u001b[0m\u001b[0;34m)\u001b[0m\u001b[0;34m\u001b[0m\u001b[0m\n\u001b[1;32m      3\u001b[0m \u001b[0my_pred\u001b[0m \u001b[0;34m=\u001b[0m \u001b[0msc\u001b[0m\u001b[0;34m.\u001b[0m\u001b[0mlabels_\u001b[0m\u001b[0;34m\u001b[0m\u001b[0m\n\u001b[1;32m      4\u001b[0m \u001b[0mprint\u001b[0m\u001b[0;34m(\u001b[0m\u001b[0my_pred\u001b[0m\u001b[0;34m)\u001b[0m\u001b[0;34m\u001b[0m\u001b[0m\n",
      "\u001b[0;31mAttributeError\u001b[0m: module 'sklearn' has no attribute 'cluster'"
     ],
     "output_type": "error"
    }
   ],
   "source": [
    "\n",
    "sc.fit_predict()"
   ]
  }
 ],
 "metadata": {
  "kernelspec": {
   "display_name": "Python 3",
   "language": "python",
   "name": "python3"
  },
  "language_info": {
   "codemirror_mode": {
    "name": "ipython",
    "version": 3
   },
   "file_extension": ".py",
   "mimetype": "text/x-python",
   "name": "python",
   "nbconvert_exporter": "python",
   "pygments_lexer": "ipython3",
   "version": "3.6.6"
  }
 },
 "nbformat": 4,
 "nbformat_minor": 1
}
